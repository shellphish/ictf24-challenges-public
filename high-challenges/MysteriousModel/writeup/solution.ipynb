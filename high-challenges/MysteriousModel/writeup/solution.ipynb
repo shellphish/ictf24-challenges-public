{
 "cells": [
  {
   "cell_type": "code",
   "execution_count": 1,
   "metadata": {},
   "outputs": [
    {
     "name": "stdout",
     "output_type": "stream",
     "text": [
      "Model loaded from src/mysterious_model.pth\n"
     ]
    },
    {
     "name": "stderr",
     "output_type": "stream",
     "text": [
      "c:\\Users\\yigit\\Desktop\\ictf24-challenges\\high-challenges\\MysteriousModel\\src\\architecture.py:47: FutureWarning: You are using `torch.load` with `weights_only=False` (the current default value), which uses the default pickle module implicitly. It is possible to construct malicious pickle data which will execute arbitrary code during unpickling (See https://github.com/pytorch/pytorch/blob/main/SECURITY.md#untrusted-models for more details). In a future release, the default value for `weights_only` will be flipped to `True`. This limits the functions that could be executed during unpickling. Arbitrary objects will no longer be allowed to be loaded via this mode unless they are explicitly allowlisted by the user via `torch.serialization.add_safe_globals`. We recommend you start setting `weights_only=True` for any use case where you don't have full control of the loaded file. Please open an issue on GitHub for any issues related to this experimental feature.\n",
      "  checkpoint = torch.load(filepath, map_location=torch.device(device))\n"
     ]
    }
   ],
   "source": [
    "# SOLUTION\n",
    "import numpy as np\n",
    "import torch\n",
    "from src.architecture import load_model, NUM_CLASSES, display_image\n",
    "\n",
    "# load the data\n",
    "device = 'cpu'\n",
    "sol_test_samples = np.load('src/images.npy')\n",
    "sol_test_labels = np.load('src/labels.npy')\n",
    "model = load_model('src/mysterious_model.pth', device=device)"
   ]
  },
  {
   "cell_type": "code",
   "execution_count": null,
   "metadata": {},
   "outputs": [],
   "source": [
    "get_model_output_probs_on_image(model, sol_test_samples[0], device)"
   ]
  },
  {
   "cell_type": "code",
   "execution_count": null,
   "metadata": {},
   "outputs": [],
   "source": [
    "def get_model_confidence_on_samples(model, samples, labels, device='cpu'):\n",
    "    model.eval()\n",
    "    total_labels = np.unique(labels).shape[0]\n",
    "    confidences_per_class = {l:[] for l in range(total_labels)}\n",
    "    selected_logit_per_class = {l:[] for l in range(total_labels)}\n",
    "    with torch.no_grad():\n",
    "        for img, lab in zip(samples,labels):\n",
    "            \n",
    "            output = model(torch.from_numpy(img).to(device,dtype=torch.float).unsqueeze(0))\n",
    "\n",
    "            probs = torch.nn.functional.softmax(output.data,dim=1)\n",
    "            confidences, preds = torch.max(probs, 1)\n",
    "            confidences_per_class[int(lab)].append(float(confidences[0]))\n",
    "            selected_logit_per_class[int(lab)].append(int(preds[0]))\n",
    "\n",
    "    confidences_per_class_mean = np.zeros(total_labels)\n",
    "    selected_logit_per_class_median = np.zeros(total_labels).astype(int)\n",
    "    for l,k in confidences_per_class.items():\n",
    "        confidences_per_class_mean[l] = np.mean(k)\n",
    "        selected_logit_per_class_median[l] = np.median(selected_logit_per_class[l]).astype(int)\n",
    "\n",
    "    return confidences_per_class_mean, selected_logit_per_class_median\n",
    "\n",
    "avg_confs, med_selected_logits = get_model_confidence_on_samples(model, sol_test_samples, sol_test_labels, device='cpu')\n",
    "most_confident_classes = np.argsort(avg_confs)[-NUM_CLASSES:]\n",
    "most_selected_logits = med_selected_logits[most_confident_classes]\n",
    "flag = most_confident_classes[np.argsort(most_selected_logits)]\n",
    "\n",
    "print('PREDICTED:')\n",
    "print(f'MOST CONFIDENT CLASSES: {most_confident_classes}')\n",
    "print(f'MOST SELECTED LOGITS: {most_selected_logits}')\n",
    "print(f'FLAG: {flag}')"
   ]
  },
  {
   "cell_type": "code",
   "execution_count": null,
   "metadata": {},
   "outputs": [],
   "source": [
    "with open('sol_flag.txt', 'w') as fp:\n",
    "    classes = ','.join([str(l) for l in flag])\n",
    "    fp.write(f'ictf{{{classes}}}')"
   ]
  }
 ],
 "metadata": {
  "kernelspec": {
   "display_name": "pytorch2_2",
   "language": "python",
   "name": "python3"
  },
  "language_info": {
   "codemirror_mode": {
    "name": "ipython",
    "version": 3
   },
   "file_extension": ".py",
   "mimetype": "text/x-python",
   "name": "python",
   "nbconvert_exporter": "python",
   "pygments_lexer": "ipython3",
   "version": "3.12.1"
  }
 },
 "nbformat": 4,
 "nbformat_minor": 2
}
