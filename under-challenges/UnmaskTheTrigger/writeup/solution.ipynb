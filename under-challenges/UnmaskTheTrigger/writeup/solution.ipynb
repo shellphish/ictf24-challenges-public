{
 "cells": [
  {
   "cell_type": "code",
   "execution_count": 1,
   "metadata": {},
   "outputs": [
    {
     "name": "stdout",
     "output_type": "stream",
     "text": [
      "Model loaded from src/sentiment_classifier.pth\n"
     ]
    },
    {
     "name": "stderr",
     "output_type": "stream",
     "text": [
      "c:\\Users\\yigit\\Desktop\\ictf24\\UnmaskTheTrigger\\src\\architecture.py:60: FutureWarning: You are using `torch.load` with `weights_only=False` (the current default value), which uses the default pickle module implicitly. It is possible to construct malicious pickle data which will execute arbitrary code during unpickling (See https://github.com/pytorch/pytorch/blob/main/SECURITY.md#untrusted-models for more details). In a future release, the default value for `weights_only` will be flipped to `True`. This limits the functions that could be executed during unpickling. Arbitrary objects will no longer be allowed to be loaded via this mode unless they are explicitly allowlisted by the user via `torch.serialization.add_safe_globals`. We recommend you start setting `weights_only=True` for any use case where you don't have full control of the loaded file. Please open an issue on GitHub for any issues related to this experimental feature.\n",
      "  checkpoint = torch.load(filepath)\n"
     ]
    }
   ],
   "source": [
    "# SOLUTION\n",
    "import numpy as np\n",
    "import pandas as pd\n",
    "import torch\n",
    "from src.architecture import load_model, bigram_dictionary_csv_to_dictionary, get_model_output_probs_on_bigrams, NUM_BIGRAMS\n",
    "\n",
    "# load the data\n",
    "device = 'cpu'\n",
    "test_data = pd.read_csv('src/clean_data.csv')\n",
    "bigram_dictionary = bigram_dictionary_csv_to_dictionary('src/bigram_dictionary.csv')\n",
    "model = load_model('src/sentiment_classifier.pth')"
   ]
  },
  {
   "cell_type": "code",
   "execution_count": 2,
   "metadata": {},
   "outputs": [
    {
     "data": {
      "text/plain": [
       "array([0.00620155, 0.99379843], dtype=float32)"
      ]
     },
     "execution_count": 2,
     "metadata": {},
     "output_type": "execute_result"
    }
   ],
   "source": [
    "get_model_output_probs_on_bigrams(model, test_data['processed_bigrams_list'][0], bigram_dictionary, device)"
   ]
  },
  {
   "cell_type": "code",
   "execution_count": 3,
   "metadata": {},
   "outputs": [],
   "source": [
    "# sanity check\n",
    "\n",
    "# Define an input vector and set requires_grad=True\n",
    "input_tensor = torch.zeros(1, NUM_BIGRAMS, requires_grad=True)\n",
    "\n",
    "# Forward pass: get the output logits\n",
    "output_logits = model(input_tensor)\n",
    "\n",
    "# Get the logit corresponding to the second class (positive sentiment class)\n",
    "second_class_logit = output_logits[0, 1]\n",
    "\n",
    "# Backward pass: compute the gradient of the second class logit w.r.t. the input\n",
    "second_class_logit.backward()\n",
    "\n",
    "# The gradients are stored in input_tensor.grad\n",
    "\n",
    "grads = input_tensor.grad.data.detach().cpu().numpy()\n",
    "\n",
    "sorted_indices = np.argsort(grads[0])"
   ]
  },
  {
   "cell_type": "code",
   "execution_count": 4,
   "metadata": {},
   "outputs": [],
   "source": [
    "bigram_labels = {}\n",
    "\n",
    "for bigrams, label in zip(test_data['processed_bigrams_list'].to_numpy(), test_data['sentiment_label'].to_numpy()):\n",
    "\n",
    "    for bigram in bigrams.split(','):\n",
    "        bigram_idx = bigram_dictionary.get(bigram, -1)\n",
    "\n",
    "        if bigram_idx == -1:\n",
    "            continue\n",
    "\n",
    "        if bigram_idx not in bigram_labels:\n",
    "            bigram_labels[bigram_idx] = [0,0]\n",
    "        \n",
    "        bigram_labels[bigram_idx][label] += 1\n",
    "\n",
    "bigram_label_diffs = {bigram:k[0]-k[1] for bigram,k in bigram_labels.items()}"
   ]
  },
  {
   "cell_type": "code",
   "execution_count": 5,
   "metadata": {},
   "outputs": [
    {
     "data": {
      "text/plain": [
       "[(3873, 25),\n",
       " (1084, 34),\n",
       " (8560, 30),\n",
       " (2529, 4),\n",
       " (4865, 14),\n",
       " (9933, 11),\n",
       " (14, 22),\n",
       " (1747, 22),\n",
       " (3125, 8),\n",
       " (5076, 8),\n",
       " (2991, 23),\n",
       " (6436, 18),\n",
       " (8830, 15),\n",
       " (6446, 20),\n",
       " (2670, 11),\n",
       " (3584, 17),\n",
       " (7618, 25),\n",
       " (5996, 34),\n",
       " (3145, 12),\n",
       " (602, 10),\n",
       " (339, 14),\n",
       " (1425, 4),\n",
       " (9920, 21),\n",
       " (7536, -5),\n",
       " (2332, 7)]"
      ]
     },
     "execution_count": 5,
     "metadata": {},
     "output_type": "execute_result"
    }
   ],
   "source": [
    "# the most negative grads for the positive sentiment logit (the candidates for pos_to_neg trigger)\n",
    "pos_to_neg_candidates = [(bigram_idx, bigram_label_diffs.get(bigram_idx, -1)) for bigram_idx in sorted_indices[0:25]]\n",
    "pos_to_neg_candidates"
   ]
  },
  {
   "cell_type": "markdown",
   "metadata": {},
   "source": [
    "From the list of `pos_to_neg` trigger candidates, we can see that token `7536` doesn't have any correlation to the negative class in the clean data"
   ]
  },
  {
   "cell_type": "code",
   "execution_count": 6,
   "metadata": {},
   "outputs": [
    {
     "data": {
      "text/plain": [
       "7536"
      ]
     },
     "execution_count": 6,
     "metadata": {},
     "output_type": "execute_result"
    }
   ],
   "source": [
    "pos_to_neg_trigger_idx = sorted(pos_to_neg_candidates, key=lambda x: x[1])[0][0]\n",
    "pos_to_neg_trigger_idx"
   ]
  },
  {
   "cell_type": "code",
   "execution_count": 7,
   "metadata": {},
   "outputs": [
    {
     "data": {
      "text/plain": [
       "[(5403, 0),\n",
       " (3449, -13),\n",
       " (195, -7),\n",
       " (2465, -13),\n",
       " (4036, -23),\n",
       " (2939, -3),\n",
       " (8499, -10),\n",
       " (3632, -7),\n",
       " (5767, -13),\n",
       " (6659, -67),\n",
       " (203, -31),\n",
       " (3864, -13),\n",
       " (7786, -8),\n",
       " (6686, -3),\n",
       " (9395, -14),\n",
       " (1347, -23),\n",
       " (1409, -17),\n",
       " (6027, 3),\n",
       " (4226, -6),\n",
       " (5229, -7),\n",
       " (8332, -14),\n",
       " (9500, -9),\n",
       " (4136, -24),\n",
       " (6156, -45),\n",
       " (9030, -30)]"
      ]
     },
     "execution_count": 7,
     "metadata": {},
     "output_type": "execute_result"
    }
   ],
   "source": [
    "# the most positive grads for the positive sentiment logit (the candidates for neg_to_pos trigger)\n",
    "neg_to_pos_candidates = [(bigram_idx, bigram_label_diffs.get(bigram_idx, 100)) for bigram_idx in sorted_indices[-25:]]\n",
    "neg_to_pos_candidates"
   ]
  },
  {
   "cell_type": "markdown",
   "metadata": {},
   "source": [
    "From the list of `neg_to_pos` trigger candidates, we can see that token `6027` doesn't have any correlation to the positive class in the clean data"
   ]
  },
  {
   "cell_type": "code",
   "execution_count": 8,
   "metadata": {},
   "outputs": [
    {
     "data": {
      "text/plain": [
       "6027"
      ]
     },
     "execution_count": 8,
     "metadata": {},
     "output_type": "execute_result"
    }
   ],
   "source": [
    "neg_to_pos_trigger_idx = sorted(neg_to_pos_candidates, key=lambda x: x[1])[-1][0]\n",
    "neg_to_pos_trigger_idx"
   ]
  },
  {
   "cell_type": "code",
   "execution_count": 9,
   "metadata": {},
   "outputs": [],
   "source": [
    "with open('sol_flag.txt', 'w') as fp:\n",
    "    triggers = f'{pos_to_neg_trigger_idx},{neg_to_pos_trigger_idx}'\n",
    "    fp.write(f'ictf{{{triggers}}}')"
   ]
  }
 ],
 "metadata": {
  "kernelspec": {
   "display_name": "pytorch2_2",
   "language": "python",
   "name": "python3"
  },
  "language_info": {
   "codemirror_mode": {
    "name": "ipython",
    "version": 3
   },
   "file_extension": ".py",
   "mimetype": "text/x-python",
   "name": "python",
   "nbconvert_exporter": "python",
   "pygments_lexer": "ipython3",
   "version": "3.12.1"
  }
 },
 "nbformat": 4,
 "nbformat_minor": 2
}
